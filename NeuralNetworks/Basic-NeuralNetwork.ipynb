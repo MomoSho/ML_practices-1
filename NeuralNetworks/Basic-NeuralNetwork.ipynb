{
 "cells": [
  {
   "cell_type": "markdown",
   "metadata": {},
   "source": [
    "## Flower blue or Red - prediction "
   ]
  },
  {
   "cell_type": "code",
   "execution_count": 1,
   "metadata": {},
   "outputs": [],
   "source": [
    "import numpy\n"
   ]
  },
  {
   "cell_type": "code",
   "execution_count": 2,
   "metadata": {},
   "outputs": [],
   "source": [
    "def nn(m1,m2,w1,w2,b):\n",
    "    z=m1*w1+m2*w2+b\n",
    "    return sigmoid(z)\n",
    "def sigmoid(x):\n",
    "    return 1/(1+numpy.exp(-x))\n",
    "    "
   ]
  },
  {
   "cell_type": "code",
   "execution_count": 4,
   "metadata": {},
   "outputs": [],
   "source": [
    "w1=numpy.random.randn()\n",
    "w2=numpy.random.randn()\n",
    "b=numpy.random.randn()\n",
    "\n",
    "\n"
   ]
  },
  {
   "cell_type": "code",
   "execution_count": 5,
   "metadata": {},
   "outputs": [
    {
     "data": {
      "text/plain": [
       "-0.22717729369206627"
      ]
     },
     "execution_count": 5,
     "metadata": {},
     "output_type": "execute_result"
    }
   ],
   "source": [
    "w1"
   ]
  },
  {
   "cell_type": "code",
   "execution_count": 6,
   "metadata": {},
   "outputs": [
    {
     "data": {
      "text/plain": [
       "1.4288431360445046"
      ]
     },
     "execution_count": 6,
     "metadata": {},
     "output_type": "execute_result"
    }
   ],
   "source": [
    "w2"
   ]
  },
  {
   "cell_type": "code",
   "execution_count": 8,
   "metadata": {},
   "outputs": [
    {
     "data": {
      "text/plain": [
       "1.7074946374243034"
      ]
     },
     "execution_count": 8,
     "metadata": {},
     "output_type": "execute_result"
    }
   ],
   "source": [
    "b"
   ]
  },
  {
   "cell_type": "code",
   "execution_count": 10,
   "metadata": {},
   "outputs": [],
   "source": [
    "def cost(b):\n",
    "    return (b-4)**2"
   ]
  },
  {
   "cell_type": "code",
   "execution_count": 12,
   "metadata": {},
   "outputs": [
    {
     "data": {
      "text/plain": [
       "0"
      ]
     },
     "execution_count": 12,
     "metadata": {},
     "output_type": "execute_result"
    }
   ],
   "source": [
    "cost(4)"
   ]
  },
  {
   "cell_type": "code",
   "execution_count": 13,
   "metadata": {},
   "outputs": [],
   "source": [
    "def num_slope(b):\n",
    "    h = 0.0001\n",
    "    return (cost(b+h)-cost(b))/h\n"
   ]
  },
  {
   "cell_type": "code",
   "execution_count": 15,
   "metadata": {},
   "outputs": [
    {
     "data": {
      "text/plain": [
       "-1.9999000000037181"
      ]
     },
     "execution_count": 15,
     "metadata": {},
     "output_type": "execute_result"
    }
   ],
   "source": [
    "num_slope(3)"
   ]
  },
  {
   "cell_type": "code",
   "execution_count": 16,
   "metadata": {},
   "outputs": [],
   "source": [
    "def slope(b):\n",
    "    return 2*(b-4)\n"
   ]
  },
  {
   "cell_type": "code",
   "execution_count": 17,
   "metadata": {},
   "outputs": [
    {
     "data": {
      "text/plain": [
       "-2"
      ]
     },
     "execution_count": 17,
     "metadata": {},
     "output_type": "execute_result"
    }
   ],
   "source": [
    "slope(3)"
   ]
  },
  {
   "cell_type": "code",
   "execution_count": 18,
   "metadata": {},
   "outputs": [
    {
     "data": {
      "text/plain": [
       "2"
      ]
     },
     "execution_count": 18,
     "metadata": {},
     "output_type": "execute_result"
    }
   ],
   "source": [
    "slope(5)"
   ]
  },
  {
   "cell_type": "code",
   "execution_count": null,
   "metadata": {},
   "outputs": [],
   "source": []
  },
  {
   "cell_type": "code",
   "execution_count": 33,
   "metadata": {},
   "outputs": [
    {
     "name": "stdout",
     "output_type": "stream",
     "text": [
      "5.6\n",
      "5.279999999999999\n",
      "5.023999999999999\n",
      "4.8191999999999995\n",
      "4.65536\n",
      "4.524288\n",
      "4.4194304\n",
      "4.33554432\n",
      "4.268435456000001\n",
      "4.2147483648\n",
      "4.17179869184\n",
      "4.137438953472\n",
      "4.1099511627776\n",
      "4.08796093022208\n",
      "4.070368744177664\n",
      "4.056294995342131\n",
      "4.045035996273705\n",
      "4.036028797018964\n",
      "4.028823037615171\n",
      "4.023058430092137\n",
      "4.018446744073709\n",
      "4.014757395258967\n",
      "4.011805916207174\n",
      "4.009444732965739\n",
      "4.007555786372591\n",
      "4.0060446290980725\n",
      "4.004835703278458\n",
      "4.003868562622766\n",
      "4.003094850098213\n",
      "4.0024758800785705\n",
      "4.0019807040628566\n",
      "4.001584563250285\n",
      "4.001267650600228\n",
      "4.001014120480183\n",
      "4.000811296384146\n",
      "4.000649037107317\n",
      "4.000519229685854\n",
      "4.000415383748683\n",
      "4.0003323069989465\n",
      "4.0002658455991575\n",
      "4.000212676479326\n",
      "4.000170141183461\n",
      "4.000136112946769\n",
      "4.000108890357415\n",
      "4.000087112285932\n",
      "4.000069689828746\n",
      "4.0000557518629964\n",
      "4.000044601490397\n",
      "4.000035681192317\n",
      "4.000028544953854\n",
      "4.000022835963083\n",
      "4.000018268770466\n",
      "4.000014615016373\n",
      "4.000011692013098\n",
      "4.000009353610478\n",
      "4.000007482888383\n",
      "4.000005986310706\n",
      "4.000004789048565\n",
      "4.0000038312388515\n",
      "4.000003064991081\n",
      "4.000002451992865\n",
      "4.0000019615942914\n",
      "4.000001569275433\n",
      "4.000001255420346\n",
      "4.000001004336277\n",
      "4.000000803469022\n",
      "4.000000642775218\n",
      "4.000000514220174\n",
      "4.000000411376139\n",
      "4.000000329100912\n",
      "4.00000026328073\n",
      "4.0000002106245836\n",
      "4.000000168499667\n",
      "4.000000134799733\n",
      "4.000000107839787\n",
      "4.00000008627183\n",
      "4.000000069017464\n",
      "4.000000055213971\n",
      "4.000000044171177\n",
      "4.000000035336941\n",
      "4.000000028269553\n",
      "4.000000022615643\n",
      "4.000000018092514\n",
      "4.000000014474011\n",
      "4.000000011579209\n",
      "4.000000009263367\n",
      "4.000000007410693\n",
      "4.0000000059285545\n",
      "4.0000000047428435\n",
      "4.000000003794275\n",
      "4.00000000303542\n",
      "4.000000002428336\n",
      "4.000000001942668\n",
      "4.000000001554135\n",
      "4.000000001243308\n",
      "4.000000000994646\n",
      "4.000000000795717\n",
      "4.0000000006365735\n",
      "4.000000000509258\n",
      "4.0000000004074066\n"
     ]
    }
   ],
   "source": [
    "b=6\n",
    "for i in range(100):\n",
    "    \n",
    "    b = b-.1*slope(b)\n",
    "    print(b)\n"
   ]
  },
  {
   "cell_type": "code",
   "execution_count": 30,
   "metadata": {},
   "outputs": [
    {
     "name": "stdout",
     "output_type": "stream",
     "text": [
      "0\n",
      "1\n",
      "2\n"
     ]
    }
   ],
   "source": [
    "for i in range(3):\n",
    "    print(i)"
   ]
  },
  {
   "cell_type": "code",
   "execution_count": null,
   "metadata": {},
   "outputs": [],
   "source": []
  }
 ],
 "metadata": {
  "kernelspec": {
   "display_name": "Python 3",
   "language": "python",
   "name": "python3"
  },
  "language_info": {
   "codemirror_mode": {
    "name": "ipython",
    "version": 3
   },
   "file_extension": ".py",
   "mimetype": "text/x-python",
   "name": "python",
   "nbconvert_exporter": "python",
   "pygments_lexer": "ipython3",
   "version": "3.6.5"
  }
 },
 "nbformat": 4,
 "nbformat_minor": 2
}
